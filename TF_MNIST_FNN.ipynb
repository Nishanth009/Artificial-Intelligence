{
 "cells": [
  {
   "cell_type": "code",
   "execution_count": 13,
   "metadata": {},
   "outputs": [
    {
     "name": "stdout",
     "output_type": "stream",
     "text": [
      "Extracting MNIST/data/train-images-idx3-ubyte.gz\n",
      "Extracting MNIST/data/train-labels-idx1-ubyte.gz\n",
      "Extracting MNIST/data/t10k-images-idx3-ubyte.gz\n",
      "Extracting MNIST/data/t10k-labels-idx1-ubyte.gz\n",
      "2.35494\n",
      "1.12059\n",
      "0.694466\n",
      "0.268055\n",
      "0.298462\n",
      "0.256472\n",
      "0.248868\n",
      "0.223294\n",
      "0.326829\n",
      "0.358758\n",
      "0.181583\n",
      "0.147366\n",
      "0.39638\n",
      "0.127564\n",
      "0.137061\n",
      "0.0848988\n",
      "0.384904\n",
      "0.254177\n",
      "0.315144\n",
      "0.130499\n",
      "test accuracy 95.67\n"
     ]
    }
   ],
   "source": [
    "import tensorflow as tf\n",
    "from tensorflow.examples.tutorials.mnist import input_data\n",
    "\n",
    "mnist = input_data.read_data_sets(\"MNIST/data\",one_hot=True)\n",
    "\n",
    "X = tf.placeholder(tf.float32,shape=[None,784])\n",
    "Y = tf.placeholder(tf.float32,shape=[None,10])\n",
    "\n",
    "def define(name,in_data,inputs,outputs,activation):\n",
    "    with tf.name_scope(name):\n",
    "        W = tf.Variable(tf.truncated_normal([inputs,outputs],stddev=0.1),name = \"W\")\n",
    "        b = tf.Variable(tf.zeros([outputs]),name=\"b\")\n",
    "        if activation==False:\n",
    "            data = tf.matmul(in_data,W)+b\n",
    "        else:\n",
    "            data = tf.nn.relu(tf.matmul(in_data,W)+b)\n",
    "        return data\n",
    "            \n",
    "            \n",
    "        \n",
    "\n",
    "neurons = [784,512,256,128,64,10]\n",
    "data = X\n",
    "activation = True\n",
    "for i in range(1,len(neurons)):\n",
    "    name = \"hidden\"+str(i)\n",
    "    inputs = neurons[i-1]\n",
    "    outputs = neurons[i]\n",
    "    if i==len(neurons)-1:\n",
    "        activation=False\n",
    "    data = define(name,data,inputs,outputs,activation)\n",
    "\n",
    "\n",
    "\n",
    "cross_entropy = tf.reduce_mean(tf.nn.softmax_cross_entropy_with_logits(labels=Y,logits=data))\n",
    "gradient = tf.train.AdamOptimizer(1e-4).minimize(cross_entropy)\n",
    "correct_prediction = tf.equal(tf.argmax(Y,1),tf.argmax(data,1))\n",
    "accuracy = tf.reduce_mean(tf.cast(correct_prediction,tf.float32))\n",
    "\n",
    "with tf.Session() as sess:\n",
    "    sess.run(tf.global_variables_initializer())\n",
    "    for i in range(2000):\n",
    "        xs,ys = mnist.train.next_batch(50)\n",
    "        sess.run(gradient,feed_dict={X:xs,Y:ys})\n",
    "        if i%100==0:\n",
    "            print sess.run(cross_entropy,feed_dict={X:xs,Y:ys})\n",
    "    print('test accuracy %s' % sess.run(accuracy*100,feed_dict={X: mnist.test.images, Y: mnist.test.labels}))\n",
    "\n",
    "\n",
    "\n",
    "\n",
    "\n",
    "\n",
    "\n"
   ]
  },
  {
   "cell_type": "code",
   "execution_count": null,
   "metadata": {
    "collapsed": true
   },
   "outputs": [],
   "source": []
  },
  {
   "cell_type": "code",
   "execution_count": null,
   "metadata": {
    "collapsed": true
   },
   "outputs": [],
   "source": []
  }
 ],
 "metadata": {
  "kernelspec": {
   "display_name": "Python 2",
   "language": "python",
   "name": "python2"
  },
  "language_info": {
   "codemirror_mode": {
    "name": "ipython",
    "version": 2
   },
   "file_extension": ".py",
   "mimetype": "text/x-python",
   "name": "python",
   "nbconvert_exporter": "python",
   "pygments_lexer": "ipython2",
   "version": "2.7.12"
  }
 },
 "nbformat": 4,
 "nbformat_minor": 2
}
